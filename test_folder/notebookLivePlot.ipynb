{
 "cells": [
  {
   "cell_type": "code",
   "execution_count": 1,
   "metadata": {},
   "outputs": [
    {
     "name": "stdout",
     "output_type": "stream",
     "text": [
      "Logging hadn't been started.\n",
      "Activating auto-logging. Current session state plus future input saved.\n",
      "Filename       : C:\\Users\\ed261978\\.qcodes\\logs\\command_history.log\n",
      "Mode           : append\n",
      "Output logging : True\n",
      "Raw input log  : False\n",
      "Timestamping   : True\n",
      "State          : active\n",
      "Qcodes Logfile : C:\\Users\\ed261978\\.qcodes\\logs\\200630-17388-qcodes.log\n"
     ]
    }
   ],
   "source": [
    "%matplotlib inline\n",
    "import os\n",
    "from time import sleep\n",
    "\n",
    "import matplotlib.pyplot as plt\n",
    "import numpy as np\n",
    "import qcodes as qc\n",
    "import time\n",
    "from qcodes import (\n",
    "    Measurement,\n",
    "    experiments,\n",
    "    initialise_database,\n",
    "    initialise_or_create_database_at,\n",
    "    load_by_guid,\n",
    "    load_by_run_spec,\n",
    "    load_experiment,\n",
    "    load_last_experiment,\n",
    "    load_or_create_experiment,\n",
    "    new_experiment,\n",
    ")\n",
    "from qcodes.dataset.plotting import plot_dataset\n",
    "from qcodes.logger.logger import start_all_logging\n",
    "from qcodes.tests.instrument_mocks import DummyInstrument"
   ]
  },
  {
   "cell_type": "code",
   "execution_count": 2,
   "metadata": {},
   "outputs": [],
   "source": [
    "station = qc.Station()"
   ]
  },
  {
   "cell_type": "code",
   "execution_count": 3,
   "metadata": {},
   "outputs": [],
   "source": [
    "# A dummy instrument dac with two parameters ch1 and Ch2\n",
    "dac = DummyInstrument('dac', gates=['ch1', 'ch2'])\n",
    "\n",
    "# A dummy instrument dmm with two parameters ch1 and Ch2\n",
    "dmm = DummyInstrument('dmm', gates=['v1', 'v2'])"
   ]
  },
  {
   "cell_type": "code",
   "execution_count": 4,
   "metadata": {},
   "outputs": [],
   "source": [
    "class dmm_parameter(qc.Parameter):\n",
    "    def __init__(self, name):\n",
    "        super().__init__(name)\n",
    "        self.ed = self.exponential_decay(5, 0.2)\n",
    "        next(self.ed)\n",
    "\n",
    "    def get_raw(self):\n",
    "        \"\"\"\n",
    "        This method is automatically wrapped to\n",
    "        provide a ``get`` method on the parameter instance.\n",
    "        \"\"\"\n",
    "        val = self.ed.send(dac.ch1())\n",
    "        next(self.ed)\n",
    "        return val\n",
    "\n",
    "    @staticmethod\n",
    "    def exponential_decay(a: float, b: float):\n",
    "        \"\"\"\n",
    "        Yields a*exp(-b*x) where x is put in\n",
    "        \"\"\"\n",
    "        x = 0\n",
    "        while True:\n",
    "            x = yield\n",
    "            yield a*np.exp(-b*x) + 0.02*a*np.random.randn()\n",
    "\n",
    "\n",
    "dmm.v1 = dmm_parameter('dmm_v1')\n",
    "dmm.v2 = dmm_parameter('dmm_v2')"
   ]
  },
  {
   "cell_type": "code",
   "execution_count": 5,
   "metadata": {},
   "outputs": [],
   "source": [
    "initialise_or_create_database_at(\"livePlot.db\")"
   ]
  },
  {
   "cell_type": "code",
   "execution_count": 6,
   "metadata": {},
   "outputs": [],
   "source": [
    "exp = load_or_create_experiment(experiment_name='dataset_context_manager',\n",
    "                                sample_name=\"no sample1\")"
   ]
  },
  {
   "cell_type": "code",
   "execution_count": 7,
   "metadata": {},
   "outputs": [
    {
     "name": "stdout",
     "output_type": "stream",
     "text": [
      "Starting experimental run with id: 40. \n",
      "0.0\n",
      "2.7777777777777777\n",
      "5.555555555555555\n",
      "8.333333333333332\n",
      "11.11111111111111\n",
      "13.88888888888889\n",
      "16.666666666666664\n",
      "19.444444444444443\n",
      "22.22222222222222\n",
      "25.0\n"
     ]
    }
   ],
   "source": [
    "meas = Measurement(exp=exp, station=station)\n",
    "meas.register_parameter(dac.ch1)  # register the first independent parameter\n",
    "meas.register_parameter(dmm.v1, setpoints=(dac.ch1,))  # now register the dependent oone\n",
    "meas.register_parameter(dmm.v2, setpoints=(dac.ch1,))  # now register the dependent oone\n",
    "\n",
    "meas.write_period = 2\n",
    "\n",
    "with meas.run() as datasaver:\n",
    "    for set_v in np.linspace(0, 25, 10):\n",
    "        dac.ch1.set(set_v)\n",
    "        get_v = dmm.v1.get()\n",
    "        datasaver.add_result((dac.ch1, set_v),\n",
    "                             (dmm.v1, get_v),\n",
    "                             (dmm.v2, get_v*2.))\n",
    "        time.sleep(1)\n",
    "        print(set_v)\n",
    "\n",
    "    dataset = datasaver.dataset  # convenient to have for plotting"
   ]
  },
  {
   "cell_type": "markdown",
   "metadata": {},
   "source": [
    "## 2D"
   ]
  },
  {
   "cell_type": "code",
   "execution_count": 42,
   "metadata": {},
   "outputs": [
    {
     "name": "stdout",
     "output_type": "stream",
     "text": [
      "Starting experimental run with id: 105. \n"
     ]
    }
   ],
   "source": [
    "meas = Measurement(exp=exp, station=station)\n",
    "meas.register_parameter(dac.ch1)\n",
    "meas.register_parameter(dac.ch2)\n",
    "meas.register_parameter(dmm.v1, setpoints=(dac.ch1, dac.ch2))  # now register the dependent oone\n",
    "meas.register_parameter(dmm.v2, setpoints=(dac.ch1, dac.ch2))  # now register the dependent oone\n",
    "\n",
    "meas.write_period = 2\n",
    "\n",
    "with meas.run() as datasaver:\n",
    "    \n",
    "    for set_v1 in np.linspace(0, 25, 5):\n",
    "        dac.ch1.set(set_v1)\n",
    "        \n",
    "        for set_v2 in np.linspace(0, 100, 20):\n",
    "            dac.ch2.set(set_v2)\n",
    "            get_v = dmm.v1.get()\n",
    "            datasaver.add_result((dac.ch1, set_v1),\n",
    "                                 (dac.ch2, set_v2+set_v1),\n",
    "                                 (dmm.v1, get_v),\n",
    "                                 (dmm.v2, get_v*2))\n",
    "        \n",
    "            time.sleep(0.25)\n",
    "\n",
    "    dataset = datasaver.dataset  # convenient to have for plotting"
   ]
  },
  {
   "cell_type": "code",
   "execution_count": 25,
   "metadata": {},
   "outputs": [
    {
     "data": {
      "text/plain": [
       "(array([ 0.  ,  0.  ,  0.  ,  0.  ,  0.  ,  0.  ,  0.  ,  0.  ,  0.  ,\n",
       "         0.  ,  0.  ,  0.  ,  0.  ,  0.  ,  0.  ,  0.  ,  0.  ,  0.  ,\n",
       "         0.  ,  0.  ,  6.25,  6.25,  6.25,  6.25,  6.25,  6.25,  6.25,\n",
       "         6.25,  6.25,  6.25,  6.25,  6.25,  6.25,  6.25,  6.25,  6.25,\n",
       "         6.25,  6.25,  6.25,  6.25, 12.5 , 12.5 , 12.5 , 12.5 , 12.5 ,\n",
       "        12.5 , 12.5 , 12.5 , 12.5 , 12.5 , 12.5 , 12.5 , 12.5 , 12.5 ,\n",
       "        12.5 , 12.5 , 12.5 , 12.5 , 12.5 , 12.5 , 18.75, 18.75, 18.75,\n",
       "        18.75, 18.75, 18.75, 18.75, 18.75, 18.75, 18.75, 18.75, 18.75,\n",
       "        18.75, 18.75, 18.75, 18.75, 18.75, 18.75, 18.75, 18.75, 25.  ,\n",
       "        25.  , 25.  , 25.  , 25.  , 25.  , 25.  , 25.  , 25.  , 25.  ,\n",
       "        25.  , 25.  , 25.  , 25.  , 25.  , 25.  , 25.  , 25.  , 25.  ,\n",
       "        25.  ]),\n",
       " array([  0.        ,   5.26315789,  10.52631579,  15.78947368,\n",
       "         21.05263158,  26.31578947,  31.57894737,  36.84210526,\n",
       "         42.10526316,  47.36842105,  52.63157895,  57.89473684,\n",
       "         63.15789474,  68.42105263,  73.68421053,  78.94736842,\n",
       "         84.21052632,  89.47368421,  94.73684211, 100.        ,\n",
       "          6.25      ,  11.51315789,  16.77631579,  22.03947368,\n",
       "         27.30263158,  32.56578947,  37.82894737,  43.09210526,\n",
       "         48.35526316,  53.61842105,  58.88157895,  64.14473684,\n",
       "         69.40789474,  74.67105263,  79.93421053,  85.19736842,\n",
       "         90.46052632,  95.72368421, 100.98684211, 106.25      ,\n",
       "         12.5       ,  17.76315789,  23.02631579,  28.28947368,\n",
       "         33.55263158,  38.81578947,  44.07894737,  49.34210526,\n",
       "         54.60526316,  59.86842105,  65.13157895,  70.39473684,\n",
       "         75.65789474,  80.92105263,  86.18421053,  91.44736842,\n",
       "         96.71052632, 101.97368421, 107.23684211, 112.5       ,\n",
       "         18.75      ,  24.01315789,  29.27631579,  34.53947368,\n",
       "         39.80263158,  45.06578947,  50.32894737,  55.59210526,\n",
       "         60.85526316,  66.11842105,  71.38157895,  76.64473684,\n",
       "         81.90789474,  87.17105263,  92.43421053,  97.69736842,\n",
       "        102.96052632, 108.22368421, 113.48684211, 118.75      ,\n",
       "         25.        ,  30.26315789,  35.52631579,  40.78947368,\n",
       "         46.05263158,  51.31578947,  56.57894737,  61.84210526,\n",
       "         67.10526316,  72.36842105,  77.63157895,  82.89473684,\n",
       "         88.15789474,  93.42105263,  98.68421053, 103.94736842,\n",
       "        109.21052632, 114.47368421, 119.73684211, 125.        ]),\n",
       " array([ 5.12513756e+00,  4.91293608e+00,  5.04761708e+00,  5.07998580e+00,\n",
       "         4.90092704e+00,  5.06336016e+00,  4.87185110e+00,  4.89863108e+00,\n",
       "         5.08254261e+00,  4.97462493e+00,  4.93929023e+00,  5.07033003e+00,\n",
       "         4.93469349e+00,  4.95200095e+00,  5.09755633e+00,  4.94250704e+00,\n",
       "         5.05065466e+00,  5.21345189e+00,  5.07494999e+00,  5.02296021e+00,\n",
       "         1.51538557e+00,  1.37289364e+00,  1.30035167e+00,  1.38393510e+00,\n",
       "         1.60106924e+00,  1.31845794e+00,  1.38121880e+00,  1.13010759e+00,\n",
       "         1.44137094e+00,  1.45256661e+00,  1.41751964e+00,  1.61238763e+00,\n",
       "         1.51323203e+00,  1.40528057e+00,  1.37193309e+00,  1.49013120e+00,\n",
       "         1.57270725e+00,  1.36162735e+00,  1.38426906e+00,  1.40784011e+00,\n",
       "         2.77420796e-01,  3.90778828e-01,  4.54070755e-01,  4.44546225e-01,\n",
       "         4.75562869e-01,  4.23509829e-01,  4.53775109e-01,  3.98519653e-01,\n",
       "         4.95544405e-01,  6.26483069e-01,  4.95991565e-01,  3.15118572e-01,\n",
       "         3.66207458e-01,  3.46555556e-01,  5.02111012e-01,  2.39937781e-01,\n",
       "         4.55979626e-01,  2.66600308e-01,  5.21411510e-01,  2.96188346e-01,\n",
       "        -1.06362541e-01, -7.73162148e-02, -2.36455900e-02,  1.30257924e-01,\n",
       "         1.27205409e-01,  1.71401186e-01,  1.42667509e-01,  2.43924163e-01,\n",
       "        -1.51641950e-02,  1.28862926e-01,  1.30856619e-01,  2.39862558e-01,\n",
       "         2.70604637e-02,  9.79323609e-03,  1.33461366e-01,  2.61249263e-02,\n",
       "         1.79285005e-01,  8.93157243e-02,  1.87912445e-02,  2.01026356e-01,\n",
       "        -1.33582702e-01,  1.15662407e-03,  1.97782694e-01,  6.96154056e-02,\n",
       "        -3.63805568e-02, -9.21980011e-04,  1.62815373e-01, -2.48397279e-01,\n",
       "        -8.03513364e-02, -9.91024370e-02, -4.11775018e-02, -9.51911300e-02,\n",
       "        -9.51929214e-02, -5.63397156e-02, -1.52215387e-01,  1.03821508e-01,\n",
       "         1.45369375e-01,  9.56587351e-02,  8.74340243e-02,  1.30365923e-01]))"
      ]
     },
     "execution_count": 25,
     "metadata": {},
     "output_type": "execute_result"
    }
   ],
   "source": []
  },
  {
   "cell_type": "code",
   "execution_count": null,
   "metadata": {},
   "outputs": [],
   "source": []
  },
  {
   "cell_type": "code",
   "execution_count": null,
   "metadata": {},
   "outputs": [],
   "source": []
  },
  {
   "cell_type": "code",
   "execution_count": null,
   "metadata": {},
   "outputs": [],
   "source": []
  },
  {
   "cell_type": "code",
   "execution_count": null,
   "metadata": {},
   "outputs": [],
   "source": []
  }
 ],
 "metadata": {
  "kernelspec": {
   "display_name": "Python 3",
   "language": "python",
   "name": "python3"
  },
  "language_info": {
   "codemirror_mode": {
    "name": "ipython",
    "version": 3
   },
   "file_extension": ".py",
   "mimetype": "text/x-python",
   "name": "python",
   "nbconvert_exporter": "python",
   "pygments_lexer": "ipython3",
   "version": "3.7.7"
  }
 },
 "nbformat": 4,
 "nbformat_minor": 4
}
